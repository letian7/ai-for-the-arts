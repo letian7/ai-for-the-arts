{
 "cells": [
  {
   "cell_type": "code",
   "execution_count": null,
   "metadata": {},
   "outputs": [
    {
     "name": "stdout",
     "output_type": "stream",
     "text": [
      "Hello, World!\n"
     ]
    }
   ],
   "source": [
    "print(\"Hello, World!\")"
   ]
  },
  {
   "cell_type": "markdown",
   "metadata": {},
   "source": [
    "# Hello, world!\n",
    "<p>The following code was created as my first attempt at\n",
    "programming in this course. It is meant to help me understand how to write and\n",
    "run code in GitHub Codespaces </p>"
   ]
  },
  {
   "cell_type": "markdown",
   "metadata": {},
   "source": [
    "## learning basic programming concepts\n",
    "1. study codespace\n",
    "2. use the codespace to finish tasks"
   ]
  },
  {
   "cell_type": "markdown",
   "metadata": {},
   "source": [
    "## Concept 1: For Loops in Python  \n",
    "This section explores the use of for loops in Python."
   ]
  },
  {
   "cell_type": "code",
   "execution_count": 1,
   "metadata": {},
   "outputs": [
    {
     "name": "stdout",
     "output_type": "stream",
     "text": [
      "Hello, world!\n"
     ]
    }
   ],
   "source": [
    "# Step 1: Define a variable to store the message\n",
    "message = \"Hello, world!\"\n",
    "\n",
    "# Step 2: Print the message using the variable\n",
    "print(message)\n"
   ]
  },
  {
   "cell_type": "code",
   "execution_count": 2,
   "metadata": {},
   "outputs": [
    {
     "name": "stdout",
     "output_type": "stream",
     "text": [
      "Hello, world!\n"
     ]
    }
   ],
   "source": [
    "# Step 1: Define a function that prints a message\n",
    "def greet():\n",
    "    print(\"Hello, world!\")\n",
    "\n",
    "# Step 2: Call the function to execute its code\n",
    "greet()\n"
   ]
  },
  {
   "cell_type": "markdown",
   "metadata": {},
   "source": [
    "## Embedding YouTube Videos in Jupyter Notebook  \n",
    "In this section, I explore how to embed a YouTube video using Python code.  \n",
    "The library `IPython.display` provides a function called `YouTubeVideo()` that allows embedding.  \n"
   ]
  },
  {
   "cell_type": "code",
   "execution_count": 3,
   "metadata": {},
   "outputs": [
    {
     "data": {
      "image/jpeg": "[encoded data removed]",
      "text/html": [
       "\n",
       "        <iframe\n",
       "            width=\"400\"\n",
       "            height=\"300\"\n",
       "            src=\"https://www.youtube.com/embed/dQw4w9WgXcQ\"\n",
       "            frameborder=\"0\"\n",
       "            allowfullscreen\n",
       "            \n",
       "        ></iframe>\n",
       "        "
      ],
      "text/plain": [
       "<IPython.lib.display.YouTubeVideo at 0x73a5e843b260>"
      ]
     },
     "execution_count": 3,
     "metadata": {},
     "output_type": "execute_result"
    }
   ],
   "source": [
    "from IPython.display import YouTubeVideo\n",
    "\n",
    "YouTubeVideo('dQw4w9WgXcQ')  \n"
   ]
  },
  {
   "cell_type": "markdown",
   "metadata": {},
   "source": [
    "## Summary of Learning Outcomes  \n",
    "In this activity, I learned how to embed multimedia elements, such as YouTube videos, in a Jupyter Notebook.  \n",
    "I practiced importing libraries using `from ... import ...`, and used the `YouTubeVideo()` function from `IPython.display`.  \n",
    "This is a helpful skill to make my code notebooks more engaging and informative.  \n"
   ]
  },
  {
   "cell_type": "markdown",
   "metadata": {},
   "source": [
    "## Image Processing: Grayscale Conversion and Average Intensity\n",
    "\n",
    "**Concept**: Load an image, convert it to grayscale, and compute the average pixel intensity.\n",
    "\n"
   ]
  },
  {
   "cell_type": "code",
   "execution_count": 13,
   "metadata": {},
   "outputs": [
    {
     "ename": "FileNotFoundError",
     "evalue": "[Errno 2] No such file or directory: '/full/path/to/your/image/1.jpg'",
     "output_type": "error",
     "traceback": [
      "\u001b[31m---------------------------------------------------------------------------\u001b[39m",
      "\u001b[31mFileNotFoundError\u001b[39m                         Traceback (most recent call last)",
      "\u001b[36mCell\u001b[39m\u001b[36m \u001b[39m\u001b[32mIn[13]\u001b[39m\u001b[32m, line 11\u001b[39m\n\u001b[32m      8\u001b[39m     \u001b[38;5;28mprint\u001b[39m(\u001b[33mf\u001b[39m\u001b[33m\"\u001b[39m\u001b[33mAverage intensity: \u001b[39m\u001b[38;5;132;01m{\u001b[39;00mavg_intensity\u001b[38;5;132;01m}\u001b[39;00m\u001b[33m\"\u001b[39m)\n\u001b[32m      9\u001b[39m     img.save(\u001b[33m\"\u001b[39m\u001b[33mprocessed_image.png\u001b[39m\u001b[33m\"\u001b[39m)\n\u001b[32m---> \u001b[39m\u001b[32m11\u001b[39m \u001b[43mprocess_image\u001b[49m\u001b[43m(\u001b[49m\u001b[33;43m\"\u001b[39;49m\u001b[33;43m/full/path/to/your/image/1.jpg\u001b[39;49m\u001b[33;43m\"\u001b[39;49m\u001b[43m)\u001b[49m\n",
      "\u001b[36mCell\u001b[39m\u001b[36m \u001b[39m\u001b[32mIn[13]\u001b[39m\u001b[32m, line 5\u001b[39m, in \u001b[36mprocess_image\u001b[39m\u001b[34m(file_path)\u001b[39m\n\u001b[32m      4\u001b[39m \u001b[38;5;28;01mdef\u001b[39;00m\u001b[38;5;250m \u001b[39m\u001b[34mprocess_image\u001b[39m(file_path):\n\u001b[32m----> \u001b[39m\u001b[32m5\u001b[39m     img = \u001b[43mImage\u001b[49m\u001b[43m.\u001b[49m\u001b[43mopen\u001b[49m\u001b[43m(\u001b[49m\u001b[43mfile_path\u001b[49m\u001b[43m)\u001b[49m.convert(\u001b[33m\"\u001b[39m\u001b[33mL\u001b[39m\u001b[33m\"\u001b[39m)  \u001b[38;5;66;03m# Convert to grayscale\u001b[39;00m\n\u001b[32m      6\u001b[39m     img_array = np.array(img)\n\u001b[32m      7\u001b[39m     avg_intensity = np.mean(img_array)\n",
      "\u001b[36mFile \u001b[39m\u001b[32m/workspaces/ai-for-the-arts/.venv/lib/python3.12/site-packages/PIL/Image.py:3505\u001b[39m, in \u001b[36mopen\u001b[39m\u001b[34m(fp, mode, formats)\u001b[39m\n\u001b[32m   3502\u001b[39m     filename = os.fspath(fp)\n\u001b[32m   3504\u001b[39m \u001b[38;5;28;01mif\u001b[39;00m filename:\n\u001b[32m-> \u001b[39m\u001b[32m3505\u001b[39m     fp = \u001b[43mbuiltins\u001b[49m\u001b[43m.\u001b[49m\u001b[43mopen\u001b[49m\u001b[43m(\u001b[49m\u001b[43mfilename\u001b[49m\u001b[43m,\u001b[49m\u001b[43m \u001b[49m\u001b[33;43m\"\u001b[39;49m\u001b[33;43mrb\u001b[39;49m\u001b[33;43m\"\u001b[39;49m\u001b[43m)\u001b[49m\n\u001b[32m   3506\u001b[39m     exclusive_fp = \u001b[38;5;28;01mTrue\u001b[39;00m\n\u001b[32m   3507\u001b[39m \u001b[38;5;28;01melse\u001b[39;00m:\n",
      "\u001b[31mFileNotFoundError\u001b[39m: [Errno 2] No such file or directory: '/full/path/to/your/image/1.jpg'"
     ]
    }
   ],
   "source": [
    "from PIL import Image\n",
    "import numpy as np\n",
    "\n",
    "def process_image(file_path):\n",
    "    img = Image.open(file_path).convert(\"L\")  # Convert to grayscale\n",
    "    img_array = np.array(img)\n",
    "    avg_intensity = np.mean(img_array)\n",
    "    print(f\"Average intensity: {avg_intensity}\")\n",
    "    img.save(\"processed_image.png\")\n",
    "\n",
    "process_image(\"/full/path/to/your/image/1.jpg\")\n"
   ]
  },
  {
   "cell_type": "markdown",
   "metadata": {},
   "source": [
    "## Exploring Scikit-Learn Datasets and Basic Data Analysis with Pandas\n",
    "\n",
    "This section explores how to use datasets from the Scikit-Learn library and how to use Pandas to display and analyse the data in tabular format.\n",
    "\n",
    "Key concepts:\n",
    "- Loading datasets using sklearn.datasets\n",
    "- Understanding dataset structure\n",
    "- Using Pandas for better data display\n",
    "- Reflecting on learning using Copilot and prompts\n"
   ]
  },
  {
   "cell_type": "code",
   "execution_count": 1,
   "metadata": {},
   "outputs": [
    {
     "name": "stdout",
     "output_type": "stream",
     "text": [
      "dict_keys(['data', 'target', 'frame', 'target_names', 'DESCR', 'feature_names', 'filename', 'data_module'])\n"
     ]
    }
   ],
   "source": [
    "from sklearn import datasets\n",
    "\n",
    "# Load iris dataset\n",
    "iris = datasets.load_iris()\n",
    "\n",
    "# View available keys\n",
    "print(iris.keys())\n"
   ]
  },
  {
   "cell_type": "code",
   "execution_count": null,
   "metadata": {},
   "outputs": [
    {
     "name": "stdout",
     "output_type": "stream",
     "text": [
      "Data sample:\n",
      " [[5.1 3.5 1.4 0.2]\n",
      " [4.9 3.  1.4 0.2]\n",
      " [4.7 3.2 1.3 0.2]\n",
      " [4.6 3.1 1.5 0.2]\n",
      " [5.  3.6 1.4 0.2]]\n",
      "Target sample:\n",
      " [0 0 0 0 0]\n",
      "Feature names:\n",
      " ['sepal length (cm)', 'sepal width (cm)', 'petal length (cm)', 'petal width (cm)']\n",
      "Target names:\n",
      " ['setosa' 'versicolor' 'virginica']\n"
     ]
    }
   ],
   "source": [
    "\n",
    "print(\"Data sample:\\n\", iris.data[:5])\n",
    "\n",
    "\n",
    "print(\"Target sample:\\n\", iris.target[:5])\n",
    "\n",
    "\n",
    "print(\"Feature names:\\n\", iris.feature_names)\n",
    "\n",
    "print(\"Target names:\\n\", iris.target_names)\n"
   ]
  },
  {
   "cell_type": "code",
   "execution_count": null,
   "metadata": {},
   "outputs": [
    {
     "data": {
      "text/html": [
       "<div>\n",
       "<style scoped>\n",
       "    .dataframe tbody tr th:only-of-type {\n",
       "        vertical-align: middle;\n",
       "    }\n",
       "\n",
       "    .dataframe tbody tr th {\n",
       "        vertical-align: top;\n",
       "    }\n",
       "\n",
       "    .dataframe thead th {\n",
       "        text-align: right;\n",
       "    }\n",
       "</style>\n",
       "<table border=\"1\" class=\"dataframe\">\n",
       "  <thead>\n",
       "    <tr style=\"text-align: right;\">\n",
       "      <th></th>\n",
       "      <th>sepal length (cm)</th>\n",
       "      <th>sepal width (cm)</th>\n",
       "      <th>petal length (cm)</th>\n",
       "      <th>petal width (cm)</th>\n",
       "      <th>target</th>\n",
       "    </tr>\n",
       "  </thead>\n",
       "  <tbody>\n",
       "    <tr>\n",
       "      <th>0</th>\n",
       "      <td>5.1</td>\n",
       "      <td>3.5</td>\n",
       "      <td>1.4</td>\n",
       "      <td>0.2</td>\n",
       "      <td>0</td>\n",
       "    </tr>\n",
       "    <tr>\n",
       "      <th>1</th>\n",
       "      <td>4.9</td>\n",
       "      <td>3.0</td>\n",
       "      <td>1.4</td>\n",
       "      <td>0.2</td>\n",
       "      <td>0</td>\n",
       "    </tr>\n",
       "    <tr>\n",
       "      <th>2</th>\n",
       "      <td>4.7</td>\n",
       "      <td>3.2</td>\n",
       "      <td>1.3</td>\n",
       "      <td>0.2</td>\n",
       "      <td>0</td>\n",
       "    </tr>\n",
       "    <tr>\n",
       "      <th>3</th>\n",
       "      <td>4.6</td>\n",
       "      <td>3.1</td>\n",
       "      <td>1.5</td>\n",
       "      <td>0.2</td>\n",
       "      <td>0</td>\n",
       "    </tr>\n",
       "    <tr>\n",
       "      <th>4</th>\n",
       "      <td>5.0</td>\n",
       "      <td>3.6</td>\n",
       "      <td>1.4</td>\n",
       "      <td>0.2</td>\n",
       "      <td>0</td>\n",
       "    </tr>\n",
       "  </tbody>\n",
       "</table>\n",
       "</div>"
      ],
      "text/plain": [
       "   sepal length (cm)  sepal width (cm)  petal length (cm)  petal width (cm)  \\\n",
       "0                5.1               3.5                1.4               0.2   \n",
       "1                4.9               3.0                1.4               0.2   \n",
       "2                4.7               3.2                1.3               0.2   \n",
       "3                4.6               3.1                1.5               0.2   \n",
       "4                5.0               3.6                1.4               0.2   \n",
       "\n",
       "   target  \n",
       "0       0  \n",
       "1       0  \n",
       "2       0  \n",
       "3       0  \n",
       "4       0  "
      ]
     },
     "execution_count": 3,
     "metadata": {},
     "output_type": "execute_result"
    }
   ],
   "source": [
    "import pandas as pd\n",
    "\n",
    "\n",
    "df_iris = pd.DataFrame(iris.data, columns=iris.feature_names)\n",
    "\n",
    "\n",
    "df_iris['target'] = iris.target\n",
    "\n",
    "df_iris.head()\n"
   ]
  },
  {
   "cell_type": "markdown",
   "metadata": {},
   "source": [
    "## Exploring the Wine Dataset\n",
    "\n",
    "I chose the `load_wine` dataset from Scikit-Learn. This dataset is a classic and very well-known dataset in the machine learning community. \n",
    "\n",
    "It contains the chemical analysis of wines grown in the same region in Italy but derived from three different cultivars. The goal is to classify wines into these three classes based on their chemical features.\n",
    "\n",
    "This dataset is useful for practicing classification and understanding how different features contribute to wine categorization.\n"
   ]
  },
  {
   "cell_type": "code",
   "execution_count": null,
   "metadata": {},
   "outputs": [
    {
     "name": "stdout",
     "output_type": "stream",
     "text": [
      "   alcohol  malic_acid   ash  alcalinity_of_ash  magnesium  total_phenols  \\\n",
      "0    14.23        1.71  2.43               15.6      127.0           2.80   \n",
      "1    13.20        1.78  2.14               11.2      100.0           2.65   \n",
      "2    13.16        2.36  2.67               18.6      101.0           2.80   \n",
      "3    14.37        1.95  2.50               16.8      113.0           3.85   \n",
      "4    13.24        2.59  2.87               21.0      118.0           2.80   \n",
      "\n",
      "   flavanoids  nonflavanoid_phenols  proanthocyanins  color_intensity   hue  \\\n",
      "0        3.06                  0.28             2.29             5.64  1.04   \n",
      "1        2.76                  0.26             1.28             4.38  1.05   \n",
      "2        3.24                  0.30             2.81             5.68  1.03   \n",
      "3        3.49                  0.24             2.18             7.80  0.86   \n",
      "4        2.69                  0.39             1.82             4.32  1.04   \n",
      "\n",
      "   od280/od315_of_diluted_wines  proline  target  \n",
      "0                          3.92   1065.0       0  \n",
      "1                          3.40   1050.0       0  \n",
      "2                          3.17   1185.0       0  \n",
      "3                          3.45   1480.0       0  \n",
      "4                          2.93    735.0       0  \n"
     ]
    }
   ],
   "source": [
    "import pandas as pd\n",
    "from sklearn.datasets import load_wine\n",
    "\n",
    "wine = load_wine()\n",
    "\n",
    "df_wine = pd.DataFrame(data=wine.data, columns=wine.feature_names)\n",
    "\n",
    "df_wine['target'] = wine.target\n",
    "\n",
    "print(df_wine.head())\n"
   ]
  },
  {
   "cell_type": "markdown",
   "metadata": {},
   "source": [
    "## Reflection on Task 1: Preparing for a Machine Learning Project\n",
    "\n",
    "Before starting the notebook exercises, I reviewed the seven-step machine learning workflow as outlined in the introduction. It helped me understand that machine learning is not just about writing code but involves framing real-world problems, acquiring reliable data, and carefully preparing and evaluating models.\n",
    "\n",
    "I also noted the importance of **discussion with peers**. As emphasized in the article by Crittenden, Biel & Lovely (2018), collaborative learning improves retention and deepens understanding. I plan to regularly check in with my peer group during these exercises.\n",
    "\n",
    "One of the key takeaways for me is the emphasis on **questioning assumptions and considering impact**. This is often overlooked when focusing only on model accuracy. I will keep these in mind as I work through the notebook.\n",
    "\n",
    "Looking forward, I’m excited to go step-by-step through a real machine learning pipeline!\n"
   ]
  },
  {
   "cell_type": "markdown",
   "metadata": {},
   "source": [
    "## Task 2: Getting Data - Reflection\n",
    "\n",
    "In this task, we begin by collecting the data needed for our machine learning experiments.\n",
    "\n",
    "We are introduced to two datasets:\n",
    "\n",
    "- **California Housing Dataset**: This is tabular data that includes housing prices and features such as location, income, and number of rooms. We will use it to build a regression model to predict housing prices.\n",
    "- **MNIST Dataset**: A classic image dataset that includes 28x28 grayscale images of handwritten digits (0-9). This dataset is widely used to build and evaluate classification models and is often the starting point for image recognition tasks in machine learning.\n",
    "\n",
    "I found it really interesting that the notebook also highlighted how artists create their own datasets to explore AI in creative ways. It reminded me that data isn’t just numbers—it can be visual, personal, and expressive.\n",
    "\n",
    "I am ready to load these datasets and start exploring them!\n"
   ]
  },
  {
   "cell_type": "code",
   "execution_count": 1,
   "metadata": {},
   "outputs": [],
   "source": [
    "import os\n",
    "import tarfile\n",
    "import urllib.request\n",
    "import pandas as pd\n",
    "\n",
    "DOWNLOAD_ROOT = \"https://github.com/ageron/data/raw/main/\"\n",
    "HOUSING_PATH = os.path.join(\"datasets\", \"housing\")\n",
    "HOUSING_URL = DOWNLOAD_ROOT + \"housing.tgz\"\n",
    "\n",
    "def load_housing_data(housing_url=HOUSING_URL, housing_path=HOUSING_PATH):\n",
    "    if not os.path.isdir(housing_path):\n",
    "        os.makedirs(housing_path)\n",
    "    tgz_path = os.path.join(housing_path, \"housing.tgz\")\n",
    "    urllib.request.urlretrieve(housing_url, tgz_path)\n",
    "    housing_tgz = tarfile.open(tgz_path)\n",
    "    housing_tgz.extractall(path=housing_path)\n",
    "    housing_tgz.close()\n",
    "    csv_path = os.path.join(housing_path, \"housing.csv\")\n",
    "    return pd.read_csv(csv_path)\n"
   ]
  },
  {
   "cell_type": "code",
   "execution_count": 2,
   "metadata": {},
   "outputs": [
    {
     "data": {
      "text/html": [
       "<div>\n",
       "<style scoped>\n",
       "    .dataframe tbody tr th:only-of-type {\n",
       "        vertical-align: middle;\n",
       "    }\n",
       "\n",
       "    .dataframe tbody tr th {\n",
       "        vertical-align: top;\n",
       "    }\n",
       "\n",
       "    .dataframe thead th {\n",
       "        text-align: right;\n",
       "    }\n",
       "</style>\n",
       "<table border=\"1\" class=\"dataframe\">\n",
       "  <thead>\n",
       "    <tr style=\"text-align: right;\">\n",
       "      <th></th>\n",
       "      <th>longitude</th>\n",
       "      <th>latitude</th>\n",
       "      <th>housing_median_age</th>\n",
       "      <th>total_rooms</th>\n",
       "      <th>total_bedrooms</th>\n",
       "      <th>population</th>\n",
       "      <th>households</th>\n",
       "      <th>median_income</th>\n",
       "      <th>median_house_value</th>\n",
       "      <th>ocean_proximity</th>\n",
       "    </tr>\n",
       "  </thead>\n",
       "  <tbody>\n",
       "    <tr>\n",
       "      <th>0</th>\n",
       "      <td>-122.23</td>\n",
       "      <td>37.88</td>\n",
       "      <td>41.0</td>\n",
       "      <td>880.0</td>\n",
       "      <td>129.0</td>\n",
       "      <td>322.0</td>\n",
       "      <td>126.0</td>\n",
       "      <td>8.3252</td>\n",
       "      <td>452600.0</td>\n",
       "      <td>NEAR BAY</td>\n",
       "    </tr>\n",
       "    <tr>\n",
       "      <th>1</th>\n",
       "      <td>-122.22</td>\n",
       "      <td>37.86</td>\n",
       "      <td>21.0</td>\n",
       "      <td>7099.0</td>\n",
       "      <td>1106.0</td>\n",
       "      <td>2401.0</td>\n",
       "      <td>1138.0</td>\n",
       "      <td>8.3014</td>\n",
       "      <td>358500.0</td>\n",
       "      <td>NEAR BAY</td>\n",
       "    </tr>\n",
       "    <tr>\n",
       "      <th>2</th>\n",
       "      <td>-122.24</td>\n",
       "      <td>37.85</td>\n",
       "      <td>52.0</td>\n",
       "      <td>1467.0</td>\n",
       "      <td>190.0</td>\n",
       "      <td>496.0</td>\n",
       "      <td>177.0</td>\n",
       "      <td>7.2574</td>\n",
       "      <td>352100.0</td>\n",
       "      <td>NEAR BAY</td>\n",
       "    </tr>\n",
       "    <tr>\n",
       "      <th>3</th>\n",
       "      <td>-122.25</td>\n",
       "      <td>37.85</td>\n",
       "      <td>52.0</td>\n",
       "      <td>1274.0</td>\n",
       "      <td>235.0</td>\n",
       "      <td>558.0</td>\n",
       "      <td>219.0</td>\n",
       "      <td>5.6431</td>\n",
       "      <td>341300.0</td>\n",
       "      <td>NEAR BAY</td>\n",
       "    </tr>\n",
       "    <tr>\n",
       "      <th>4</th>\n",
       "      <td>-122.25</td>\n",
       "      <td>37.85</td>\n",
       "      <td>52.0</td>\n",
       "      <td>1627.0</td>\n",
       "      <td>280.0</td>\n",
       "      <td>565.0</td>\n",
       "      <td>259.0</td>\n",
       "      <td>3.8462</td>\n",
       "      <td>342200.0</td>\n",
       "      <td>NEAR BAY</td>\n",
       "    </tr>\n",
       "  </tbody>\n",
       "</table>\n",
       "</div>"
      ],
      "text/plain": [
       "   longitude  latitude  housing_median_age  total_rooms  total_bedrooms  \\\n",
       "0    -122.23     37.88                41.0        880.0           129.0   \n",
       "1    -122.22     37.86                21.0       7099.0          1106.0   \n",
       "2    -122.24     37.85                52.0       1467.0           190.0   \n",
       "3    -122.25     37.85                52.0       1274.0           235.0   \n",
       "4    -122.25     37.85                52.0       1627.0           280.0   \n",
       "\n",
       "   population  households  median_income  median_house_value ocean_proximity  \n",
       "0       322.0       126.0         8.3252            452600.0        NEAR BAY  \n",
       "1      2401.0      1138.0         8.3014            358500.0        NEAR BAY  \n",
       "2       496.0       177.0         7.2574            352100.0        NEAR BAY  \n",
       "3       558.0       219.0         5.6431            341300.0        NEAR BAY  \n",
       "4       565.0       259.0         3.8462            342200.0        NEAR BAY  "
      ]
     },
     "execution_count": 2,
     "metadata": {},
     "output_type": "execute_result"
    }
   ],
   "source": [
    "housing = load_housing_data()\n",
    "housing.head()\n"
   ]
  },
  {
   "cell_type": "markdown",
   "metadata": {},
   "source": [
    "## Task 2-1: Downloading the California Housing Dataset\n",
    "\n",
    "In this task, I used the provided `load_housing_data()` function to download and extract the California housing dataset.\n",
    "\n",
    "The function does the following:\n",
    "- Downloads the `housing.tgz` file from a GitHub URL.\n",
    "- Extracts the contents (a CSV file) into a local `datasets/housing` directory.\n",
    "- Loads the CSV data into a Pandas DataFrame.\n",
    "\n",
    "This makes the data ready for exploration and analysis in the next steps.\n",
    "\n",
    " I successfully loaded the dataset and displayed the first few rows using `housing.head()`.\n"
   ]
  },
  {
   "cell_type": "markdown",
   "metadata": {},
   "source": [
    "## Task 2-2: Downloading the MNIST Image Dataset\n",
    "\n",
    "In this task, I downloaded the MNIST dataset using `fetch_openml()` from scikit-learn. The MNIST dataset contains 70,000 images of handwritten digits, each with 784 pixel values (28x28 images).\n",
    "\n",
    "Unlike tabular data, image data is not loaded into a Pandas DataFrame by default. Instead, we work with `Bunch` objects and arrays.\n",
    "\n",
    " I successfully downloaded the data, verified its type using `type(mnist)`, and checked the data shape as `(70000, 784)`.\n",
    " I also visualized one digit image using `matplotlib.pyplot`.\n",
    "\n",
    "This helped me understand how image data is structured differently from tabular data.\n"
   ]
  },
  {
   "cell_type": "markdown",
   "metadata": {},
   "source": [
    "Part 4：Your Creative Design"
   ]
  },
  {
   "cell_type": "markdown",
   "metadata": {},
   "source": [
    "## Introduction\n",
    "\n",
    "In this project, we present **HeritageGPT**, an AI-powered virtual guide designed to engage audiences with the cultural richness of the Dunhuang Mogao Caves.\n",
    "\n",
    "This creative application explores how large language models (LLMs) can enhance public understanding and appreciation of cultural heritage, particularly through conversational interaction.\n",
    "\n",
    "The target audience includes:\n",
    "- Teenagers\n",
    "- University students\n",
    "- Curious travelers and heritage learners\n",
    "\n",
    "Our goals are:\n",
    "- To increase engagement with Dunhuang heritage\n",
    "- To promote inclusive learning experiences\n",
    "- To offer interactive storytelling powered by AI\n"
   ]
  },
  {
   "cell_type": "markdown",
   "metadata": {},
   "source": [
    "## Interaction Design\n",
    "\n",
    "The design of HeritageGPT involves a three-layer interaction system:\n",
    "\n",
    "1. **Human Input Layer**: The user asks questions or initiates conversation (e.g., \"Tell me about the Seven-Colored Deer\").\n",
    "2. **AI Dialogue Layer**: The LLM responds as a knowledgeable guide, with historical, cultural, and artistic context.\n",
    "3. **Visual Response Layer**: Relevant visuals (murals, artifacts, illustrations) are displayed to enrich the experience.\n",
    "\n",
    "**Flow Diagram**:\n"
   ]
  },
  {
   "cell_type": "markdown",
   "metadata": {},
   "source": [
    "from graphviz import Digraph\n",
    "\n",
    "dot = Digraph()\n",
    "\n",
    "dot.node('U', 'User')\n",
    "dot.node('G', 'HeritageGPT\\n(LLM)')\n",
    "dot.node('V', 'Visual Engine\\n(Images / Maps)')\n",
    "\n",
    "dot.edges(['UG', 'GV'])\n",
    "dot.edge('V', 'U', label='Interactive Feedback')\n",
    "\n",
    "dot.render('heritagegpt_interaction', format='png', cleanup=False)\n",
    "dot.view()\n"
   ]
  },
  {
   "cell_type": "markdown",
   "metadata": {},
   "source": [
    "## Example User-AI Conversation\n",
    "\n",
    "Below is a mock conversation between a user and HeritageGPT:\n",
    "\n",
    "**User**: Who are the flying apsaras in Dunhuang?\n",
    "\n",
    "**HeritageGPT**: The flying apsaras, also known as \"Feitian\" (飞天), are celestial beings depicted in the murals of Dunhuang's Mogao Caves. They represent spiritual grace and symbolize the connection between heaven and earth...\n",
    "\n",
    "**User**: Can I see one of the murals?\n",
    "\n",
    "**HeritageGPT**: Absolutely. Here's a famous painting from Cave 148:\n",
    "\n",
    "![Flying Apsaras - Cave 148]"
   ]
  },
  {
   "cell_type": "markdown",
   "metadata": {},
   "source": [
    "## Learning and Engagement Value\n",
    "\n",
    "HeritageGPT enhances learning and engagement by:\n",
    "\n",
    "- Offering real-time, personalized conversations with cultural content.\n",
    "- Using visual storytelling to explain complex historical and artistic topics.\n",
    "- Allowing multi-lingual support and accessibility options to promote inclusivity.\n"
   ]
  },
  {
   "cell_type": "markdown",
   "metadata": {},
   "source": [
    "## Inclusion & Accessibility\n",
    "\n",
    "To ensure wide accessibility, we include:\n",
    "- Simplified mode for younger users or non-native English speakers.\n",
    "- Voice interaction option (future enhancement).\n",
    "- Optional language choices: English, Chinese, and more.\n",
    "- Descriptions for all visuals for visually impaired users.\n"
   ]
  },
  {
   "cell_type": "markdown",
   "metadata": {},
   "source": [
    "## Critical Reflection\n",
    "\n",
    "HeritageGPT presents an exciting opportunity to preserve and promote cultural heritage using large language models. However, we must remain aware of:\n",
    "\n",
    "- **Cultural sensitivity**: Ensure accurate representation of historical narratives.\n",
    "- **Bias**: Monitor AI-generated responses for cultural or political bias.\n",
    "- **Ethical responsibility**: Respect the spiritual significance of sacred sites.\n",
    "\n",
    "Despite these challenges, the application has great potential to support education and inclusive engagement with heritage.\n"
   ]
  },
  {
   "cell_type": "markdown",
   "metadata": {},
   "source": [
    "## Summary\n",
    "\n",
    "HeritageGPT is a creative prototype showing how LLMs can transform cultural storytelling. The combination of dialogue, imagery, and interaction brings ancient sites like the Mogao Caves to life for new generations.\n",
    "\n",
    "\n"
   ]
  }
 ],
 "metadata": {
  "kernelspec": {
   "display_name": ".venv",
   "language": "python",
   "name": "python3"
  },
  "language_info": {
   "codemirror_mode": {
    "name": "ipython",
    "version": 3
   },
   "file_extension": ".py",
   "mimetype": "text/x-python",
   "name": "python",
   "nbconvert_exporter": "python",
   "pygments_lexer": "ipython3",
   "version": "3.12.1"
  }
 },
 "nbformat": 4,
 "nbformat_minor": 2
}
